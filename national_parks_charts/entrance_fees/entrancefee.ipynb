{
 "cells": [
  {
   "cell_type": "code",
   "execution_count": 1,
   "metadata": {},
   "outputs": [
    {
     "name": "stdout",
     "output_type": "stream",
     "text": [
      "Entrance fees for Saguaro National Park:\n",
      "- Entrance - Private Vehicle: $25.00\n",
      "- Entrance - Per Person: $15.00\n",
      "- Entrance - Motorcycle: $20.00\n",
      "\n",
      "\n",
      "Entrance fees for Petrified Forest National Park:\n",
      "- Entrance - Private Vehicle: $25.00\n",
      "- Entrance - Per Person: $15.00\n",
      "- Entrance - Motorcycle: $20.00\n",
      "- Commercial Entrance - Sedan: $25.00\n",
      "- Commercial Entrance - Per Person: $10.00\n",
      "- Commercial Entrance - Van: $50.00\n",
      "- Commercial Entrance - Mini-bus: $60.00\n",
      "- Commercial Entrance - Motor Coach: $150.00\n",
      "- Entrance - Non-commercial Groups: $15.00\n",
      "\n",
      "\n",
      "Entrance fees for Grand Canyon National Park:\n",
      "- Entrance - Private Vehicle: $35.00\n",
      "- Entrance - Motorcycle: $30.00\n",
      "- Entrance - Per Person: $20.00\n",
      "\n",
      "\n"
     ]
    }
   ],
   "source": [
    "import requests\n",
    "\n",
    "# API endpoints for park data\n",
    "api_endpoints = [\n",
    "    'https://developer.nps.gov/api/v1/parks?parkCode=sagu&api_key=479HXbPsSqNacjdnouvPQi4c0tIkAmtjTd0cSHrS',\n",
    "    'https://developer.nps.gov/api/v1/parks?parkCode=pefo&api_key=479HXbPsSqNacjdnouvPQi4c0tIkAmtjTd0cSHrS',\n",
    "    'https://developer.nps.gov/api/v1/parks?parkCode=grca&api_key=479HXbPsSqNacjdnouvPQi4c0tIkAmtjTd0cSHrS'\n",
    "]\n",
    "\n",
    "def fetch_data(api_endpoint):\n",
    "    response = requests.get(api_endpoint)\n",
    "    data = response.json()\n",
    "    return data\n",
    "\n",
    "# Fetch data from each API endpoint\n",
    "data_array = [fetch_data(endpoint) for endpoint in api_endpoints]\n",
    "\n",
    "# Display entrance fees for each location\n",
    "for data in data_array:\n",
    "    park_name = data['data'][0]['fullName']\n",
    "    entrance_fees = data['data'][0]['entranceFees']\n",
    "\n",
    "    print(f\"Entrance fees for {park_name}:\")\n",
    "    for fee in entrance_fees:\n",
    "        title = fee['title']\n",
    "        cost = fee['cost']\n",
    "        print(f\"- {title}: ${cost}\")\n",
    "    print('\\n')\n"
   ]
  }
 ],
 "metadata": {
  "kernelspec": {
   "display_name": "Python 3",
   "language": "python",
   "name": "python3"
  },
  "language_info": {
   "codemirror_mode": {
    "name": "ipython",
    "version": 3
   },
   "file_extension": ".py",
   "mimetype": "text/x-python",
   "name": "python",
   "nbconvert_exporter": "python",
   "pygments_lexer": "ipython3",
   "version": "3.12.1"
  }
 },
 "nbformat": 4,
 "nbformat_minor": 2
}
